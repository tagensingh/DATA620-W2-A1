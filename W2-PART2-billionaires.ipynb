{
 "cells": [
  {
   "cell_type": "code",
   "execution_count": null,
   "id": "dcdb3ba9-3e19-44b0-ac3f-d8270af7cfa2",
   "metadata": {},
   "outputs": [],
   "source": []
  },
  {
   "cell_type": "code",
   "execution_count": 1,
   "id": "e9120693-a5b7-47d6-bcc7-e9e9b2bb5eed",
   "metadata": {
    "scrolled": true,
    "tags": []
   },
   "outputs": [
    {
     "name": "stdout",
     "output_type": "stream",
     "text": [
      "2021-06-13\n"
     ]
    }
   ],
   "source": [
    "# Importing the required libraries\n",
    "import pandas as pd\n",
    "import networkx as nx\n",
    "import matplotlib.pyplot as plt\n",
    "G=nx.Graph()\n",
    "\n",
    "from datetime import date\n",
    "today = date.today()\n",
    "\n",
    "print(today)\n"
   ]
  },
  {
   "cell_type": "markdown",
   "id": "e0797e7e-b3a7-4efb-8d2f-da92684c7c83",
   "metadata": {
    "tags": []
   },
   "source": [
    "<span style='background :blue' > # CUNY SPS DATA 620\n",
    "\n",
    "<span style='background :blue' >## WEEK 2 ASSIGNMENT 2\n",
    "    \n",
    "### This assignment is about the Top Billionaires in 2021, the dataset contains 2739 Records in .CSV format, including catagroical information\n",
    "\n",
    "### The dataset was sourced from https://www.kaggle.com/nithishsekaran/billionairesdataset2021\n",
    "\n",
    "<span style='background :blue' >### This work is a group effort, the group members are Ramnivas Singh, Deepak Sharma, Tage Singh,"
   ]
  },
  {
   "cell_type": "code",
   "execution_count": null,
   "id": "0597f846-3b76-497e-b552-16410fb159fe",
   "metadata": {},
   "outputs": [],
   "source": [
    "# Loading data into pandas dataframe form .CSV file -----\n",
    "\n",
    "data_frame_1k = pd.read_csv('https://raw.githubusercontent.com/tagensingh/DATA620-W2-A1/main/gephi_import_1000_records.csv')\n",
    "\n",
    "data_frame_1k.head()"
   ]
  }
 ],
 "metadata": {
  "kernelspec": {
   "display_name": "Python 3",
   "language": "python",
   "name": "python3"
  },
  "language_info": {
   "codemirror_mode": {
    "name": "ipython",
    "version": 3
   },
   "file_extension": ".py",
   "mimetype": "text/x-python",
   "name": "python",
   "nbconvert_exporter": "python",
   "pygments_lexer": "ipython3",
   "version": "3.7.10"
  }
 },
 "nbformat": 4,
 "nbformat_minor": 5
}
