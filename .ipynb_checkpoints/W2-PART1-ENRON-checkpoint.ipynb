{
 "cells": [
  {
   "cell_type": "code",
   "execution_count": 1,
   "id": "04cd57c0-869b-40c4-a04a-bc236d82086b",
   "metadata": {
    "scrolled": true,
    "tags": []
   },
   "outputs": [
    {
     "name": "stdout",
     "output_type": "stream",
     "text": [
      "2021-06-22\n"
     ]
    }
   ],
   "source": [
    "#   - Importing the required libraries   - \n",
    "\n",
    "import pandas as pd\n",
    "\n",
    "import collections\n",
    "\n",
    "import networkx as nx\n",
    "G=nx.Graph()\n",
    "\n",
    "from pyvis.network import Network\n",
    "\n",
    "import matplotlib.pyplot as plt\n",
    "\n",
    "import itertools\n",
    "\n",
    "from tabulate import tabulate\n",
    "\n",
    "from datetime import date\n",
    "today = date.today()\n",
    "\n",
    "print(today)"
   ]
  },
  {
   "cell_type": "code",
   "execution_count": 2,
   "id": "4cb592f8-e177-4b1e-84a7-a632a80c7991",
   "metadata": {},
   "outputs": [
    {
     "name": "stdout",
     "output_type": "stream",
     "text": [
      " This project use the following package versions \n",
      "# packages in environment at C:\\Users\\tsingh\\anaconda3\\envs\\sps_data_620:\n",
      "#\n",
      "# Name                    Version                   Build  Channel\n",
      "ipython                   7.22.0           py37hd4e2768_0  \n",
      "ipython_genutils          0.2.0              pyhd3eb1b0_1  \n",
      "python                    3.7.10               h6244533_0  \n",
      "python-dateutil           2.8.1              pyhd3eb1b0_0  \n",
      "python_abi                3.7                     1_cp37m    conda-forge\n",
      "\n",
      "\n",
      "# packages in environment at C:\\Users\\tsingh\\anaconda3\\envs\\sps_data_620:\n",
      "#\n",
      "# Name                    Version                   Build  Channel\n",
      "networkx                  2.5.1              pyhd3eb1b0_0  \n",
      "\n",
      "\n",
      "# packages in environment at C:\\Users\\tsingh\\anaconda3\\envs\\sps_data_620:\n",
      "\n",
      "#\n",
      "# Name                    Version                   Build  Channel\n",
      "pyvis                     0.1.7.0                    py_0    conda-forge/label/cf202003\n",
      "\n"
     ]
    }
   ],
   "source": [
    "print(\" This project use the following package versions \")\n",
    "\n",
    "!conda list python\n",
    "\n",
    "print(\"\\n\")\n",
    "\n",
    "!conda list networkx\n",
    "\n",
    "print(\"\\n\")\n",
    "\n",
    "!conda list pyvis\n",
    "\n",
    "print(\"\\n\")"
   ]
  },
  {
   "cell_type": "markdown",
   "id": "4b55bde7-5a27-4db1-8acb-48d41ce47da0",
   "metadata": {
    "tags": []
   },
   "source": [
    "<span style='background :blue' > # CUNY SPS DATA 620\n",
    "\n",
    "<span style='background :blue' >## WEEK 2 ASSIGNMENT 1\n",
    "    \n",
    "### This assignment is about the Enron Email dataset, the dataset contains > 360K edges, we will work with various subsets of those edges.\n",
    "\n",
    "### The dataset was sourced from https://snap.stanford.edu/data/email-Enron.html\n",
    "\n",
    "<span style='background :blue' >### This work is a group effort, the group members are Ramnivas Singh, Deepak Sharma, Tage Singh,"
   ]
  },
  {
   "cell_type": "code",
   "execution_count": 3,
   "id": "75cdf127-2a69-4323-a632-3d7807df0a8c",
   "metadata": {
    "tags": []
   },
   "outputs": [],
   "source": [
    "# The follwoing will import all records into the networkx object\n",
    "\n",
    "#  - importing all records from dataset\n",
    "\n",
    "data_10000 = pd.read_csv('https://raw.githubusercontent.com/tagensingh/DATA620-W2-A1/main/enron_import_10000_records.csv')\n",
    "\n",
    "data_all = pd.read_csv('https://raw.githubusercontent.com/tagensingh/DATA620-W2-A1/main/enron_import_all_records.csv')\n",
    "\n",
    "G=nx.from_pandas_edgelist(data_10000, 'Source', 'Target',edge_attr=None)\n",
    "GA=nx.from_pandas_edgelist(data_all, 'Source', 'Target',edge_attr=None)\n",
    "\n",
    "#   - Trimming nodes with 1 connection   - \n",
    "\n",
    "G1=G.copy()\n",
    "\n",
    "to_be_removed = [x for  x in G1.nodes() if G1.degree(x) <= 1]\n",
    "\n",
    "for x in to_be_removed:\n",
    "    G1.remove_node(x)\n",
    "    \n",
    "#   - Trimming nodes with 5 or less connections   - \n",
    "    \n",
    "G5=G.copy()\n",
    "\n",
    "to_be_removed = [x for  x in G5.nodes() if G5.degree(x) <= 5]\n",
    "\n",
    "for x in to_be_removed:\n",
    "    G5.remove_node(x)\n",
    "\n"
   ]
  },
  {
   "cell_type": "markdown",
   "id": "52c53dac-0883-450c-893b-419e5a2b4585",
   "metadata": {
    "tags": []
   },
   "source": [
    "<span style='background :green' > ## The cell below provide an overview of **100,000** records of the ENRON Email dataset \n",
    "    \n",
    "<span style='background :red' > ## This subset of the data is too large to generate a graph using current hardware config"
   ]
  },
  {
   "cell_type": "code",
   "execution_count": 4,
   "id": "c768b009-2c44-440d-9357-0f17a33a52f5",
   "metadata": {},
   "outputs": [
    {
     "name": "stdout",
     "output_type": "stream",
     "text": [
      "The numbr of NODES in the base data of 10,000 records 4692\n",
      "\n",
      "\n",
      "A summary NODES in the base data of 10,000 records Name: \n",
      "Type: Graph\n",
      "Number of nodes: 4692\n",
      "Number of edges: 9402\n",
      "Average degree:   4.0077\n",
      "\n",
      "\n",
      "The RADIUS of the base data of 10,000 records 3\n",
      "\n",
      "\n",
      "The DIAMETER of the base data of 10,000 records 5\n",
      "\n",
      "\n"
     ]
    },
    {
     "data": {
      "image/png": "[encoded data removed]",
      "text/plain": [
       "<Figure size 432x288 with 1 Axes>"
      ]
     },
     "metadata": {},
     "output_type": "display_data"
    }
   ],
   "source": [
    "print(\"The numbr of NODES in the base data of 10,000 records\",len(G))\n",
    "\n",
    "print(\"\\n\")\n",
    "\n",
    "print(\"A summary NODES in the base data of 10,000 records\",nx.info(G))\n",
    "\n",
    "\n",
    "print(\"\\n\")\n",
    "\n",
    "print(\"The RADIUS of the base data of 10,000 records\",nx.radius(G))\n",
    "\n",
    "\n",
    "print(\"\\n\")\n",
    "\n",
    "print(\"The DIAMETER of the base data of 10,000 records\",nx.diameter(G))\n",
    "\n",
    "\n",
    "print(\"\\n\")\n",
    "    \n",
    "nx.draw(G)"
   ]
  },
  {
   "cell_type": "code",
   "execution_count": 5,
   "id": "d8feeb17-bb06-4abd-8362-3fcf59d1e9bd",
   "metadata": {},
   "outputs": [
    {
     "name": "stdout",
     "output_type": "stream",
     "text": [
      " ---- For 10,000 Records  - Degree Centrality ----\n",
      "\n",
      "\n",
      "eid-76 815\n",
      "eid-95 597\n",
      "eid-127 481\n",
      "eid-93 455\n",
      "eid-106 422\n",
      "eid-72 377\n",
      "eid-90 366\n",
      "eid-78 339\n",
      "eid-109 339\n"
     ]
    }
   ],
   "source": [
    "# DEGREE CENTRALITY\n",
    "\n",
    "print(\" ---- For 10,000 Records  - Degree Centrality ----\")\n",
    "\n",
    "print(\"\\n\")\n",
    "\n",
    "dc_g = (sorted(G.degree, key=lambda x: x[1], reverse=True))\n",
    "sort_dc_g=(dc_g[0:9])\n",
    "\n",
    "for i in sort_dc_g:\n",
    "    print(i[0], i[1])\n",
    "    \n",
    " "
   ]
  },
  {
   "cell_type": "code",
   "execution_count": 6,
   "id": "6b9006e9-5743-4735-adcd-8d2947a86a81",
   "metadata": {},
   "outputs": [
    {
     "name": "stdout",
     "output_type": "stream",
     "text": [
      " ---- For 10,000 Records  - Closeness Centraility\n",
      "\n",
      "\n",
      "eid-54 0.4907417093838268\n",
      "eid-76 0.48768063208233703\n",
      "eid-83 0.47484563214900294\n",
      "eid-56 0.47046434660515496\n",
      "eid-106 0.45636735090962155\n",
      "eid-78 0.44718779790276453\n",
      "eid-155 0.44646426192062433\n",
      "eid-88 0.4439292135894767\n",
      "eid-326 0.44084202612536416\n",
      "\n",
      "\n"
     ]
    }
   ],
   "source": [
    "# CLOSENESS CENTRALITY \n",
    "\n",
    "print(\" ---- For 10,000 Records  - Closeness Centraility\")\n",
    "\n",
    "print(\"\\n\")\n",
    "\n",
    "cc_g=nx.closeness_centrality(G)\n",
    "\n",
    "sort_cc_g = sorted(cc_g.items(), key=lambda x: x[1], reverse=True)\n",
    "\n",
    "sort_cc_g=(sort_cc_g[0:9])\n",
    "\n",
    "for i in sort_cc_g:\n",
    "    print(i[0], i[1])\n",
    "    \n",
    "    \n",
    "print(\"\\n\")\n"
   ]
  },
  {
   "cell_type": "code",
   "execution_count": 7,
   "id": "cb8995eb-317e-4519-b5d6-f8ef3de52b44",
   "metadata": {},
   "outputs": [
    {
     "name": "stdout",
     "output_type": "stream",
     "text": [
      " ---- FOR 10,000 Records  - Betweeness Centraility ---- \n",
      "\n",
      "\n",
      "eid-76 0.21101674708473397\n",
      "eid-95 0.18343381202209572\n",
      "eid-127 0.14268163878489784\n",
      "eid-72 0.09330415940042035\n",
      "eid-90 0.09176319491309244\n",
      "eid-106 0.08864564974414015\n",
      "eid-93 0.08717386392265201\n",
      "eid-114 0.0837408655052786\n",
      "eid-78 0.06656660485419798\n"
     ]
    }
   ],
   "source": [
    "# BETWEENESS CENTRALITY\n",
    "\n",
    "print(\" ---- FOR 10,000 Records  - Betweeness Centraility ---- \")\n",
    "\n",
    "print(\"\\n\")\n",
    "\n",
    "bc_gg = nx.betweenness_centrality(G)\n",
    "\n",
    "sort_bc_gg = sorted(bc_gg.items(), key=lambda x: x[1], reverse=True)\n",
    "\n",
    "sort_bc_gg=(sort_bc_gg[0:9])\n",
    "\n",
    "for i in sort_bc_gg:\n",
    "    print(i[0], i[1])\n",
    "    \n"
   ]
  },
  {
   "cell_type": "code",
   "execution_count": 8,
   "id": "92e64bce-b724-4013-8676-fd1bb186b302",
   "metadata": {},
   "outputs": [
    {
     "data": {
      "image/png": "[encoded data removed]",
      "text/plain": [
       "<Figure size 432x288 with 2 Axes>"
      ]
     },
     "metadata": {
      "needs_background": "light"
     },
     "output_type": "display_data"
    },
    {
     "name": "stdout",
     "output_type": "stream",
     "text": [
      "THE END OF CODE\n"
     ]
    }
   ],
   "source": [
    "##---------------------------THIS IS FOR GRAPHING THE DEGREE CENTRALITY-------------------------------------\n",
    "\n",
    "degree_sequence = sorted([d for n, d in G.degree()], reverse=True)  # degree sequence\n",
    "degreeCount = collections.Counter(degree_sequence)\n",
    "deg, cnt = zip(*degreeCount.items())\n",
    "\n",
    "fig, ax = plt.subplots()\n",
    "plt.bar(deg, cnt, width=0.80, color=\"b\")\n",
    "\n",
    "plt.title(\"Degree Histogram Enron Emails 10,000 Records\")\n",
    "plt.ylabel(\"Count\")\n",
    "plt.xlabel(\"Degree\")\n",
    "ax.set_xticks([d + 0.4 for d in deg])\n",
    "ax.set_xticklabels(deg)\n",
    "\n",
    "# draw graph in inset ------- CAN be included in project\n",
    "plt.axes([0.4, 0.4, 0.5, 0.5])\n",
    "Gcc = G.subgraph(sorted(nx.connected_components(G), key=len, reverse=True)[0])\n",
    "pos = nx.spring_layout(G)\n",
    "plt.axis(\"off\")\n",
    "nx.draw_networkx_nodes(G, pos, node_size=20)\n",
    "nx.draw_networkx_edges(G, pos, alpha=0.4)\n",
    "plt.show()\n",
    "\n",
    "##------------------------------------------------------------\n",
    "print('THE END OF CODE')"
   ]
  },
  {
   "cell_type": "code",
   "execution_count": 9,
   "id": "000b5087-69cd-4e7a-8038-df1f920713ac",
   "metadata": {
    "tags": []
   },
   "outputs": [
    {
     "name": "stdout",
     "output_type": "stream",
     "text": [
      " - The following code generates Pyvis visual of the 5000 record dataset in a seperate html page - \n"
     ]
    }
   ],
   "source": [
    "print(\" - The following code generates Pyvis visual of the 5000 record dataset in a seperate html page - \")"
   ]
  },
  {
   "cell_type": "code",
   "execution_count": 10,
   "id": "164d2db9-13c5-45ba-92d8-492d952bf41f",
   "metadata": {
    "tags": []
   },
   "outputs": [],
   "source": [
    "# this is a sample visualization for the ENRON email dataset using PYVIS and 5000 Records\n",
    "\n",
    "got_net = Network(height='750px', width='100%', bgcolor='#034C03', font_color='white')\n",
    "\n",
    "# set the physics layout of the network\n",
    "got_net.barnes_hut()\n",
    "\n",
    "data_1K = pd.read_csv('enron_import_5000_records.csv')\n",
    "\n",
    "sources = data_1K['Source']\n",
    "targets = data_1K['Target']\n",
    "weights = data_1K['Weight']\n",
    "\n",
    "\n",
    "edge_data = zip(sources, targets, weights)\n",
    "\n",
    "for e in edge_data:\n",
    "    src = e[0]\n",
    "    dst = e[1]\n",
    "    w = e[2]\n",
    "\n",
    "    got_net.add_node(src, src, title=src)\n",
    "    got_net.add_node(dst, dst, title=dst)\n",
    "    got_net.add_edge(src, dst, value=w)\n",
    "\n",
    "neighbor_map = got_net.get_adj_list()\n",
    "\n",
    "# add neighbor data to node hover data\n",
    "for node in got_net.nodes:\n",
    "    node['title'] += ' Neighbors:<br>' + '<br>'.join(neighbor_map[node['id']])\n",
    "    node['value'] = len(neighbor_map[node['id']])\n",
    "\n",
    "got_net.show('enron_5000_records.html')\n"
   ]
  },
  {
   "cell_type": "code",
   "execution_count": 11,
   "id": "76bd2fe6-86b3-477e-82b1-89dc4358d15d",
   "metadata": {
    "tags": []
   },
   "outputs": [
    {
     "name": "stdout",
     "output_type": "stream",
     "text": [
      "#####   -----   THE FOLLOWING RELATE TO THE ENRON 10,000 RECORDS DATASET WITH NODES <=1 DEGREE  REMOVED   -----     #####\n"
     ]
    }
   ],
   "source": [
    "print(\"#####   -----   THE FOLLOWING RELATE TO THE ENRON 10,000 RECORDS DATASET WITH NODES <=1 DEGREE  REMOVED   -----     #####\")"
   ]
  },
  {
   "cell_type": "code",
   "execution_count": 12,
   "id": "636d881c-e06e-4ce3-8621-d4d289e2af5e",
   "metadata": {},
   "outputs": [
    {
     "name": "stdout",
     "output_type": "stream",
     "text": [
      " ---- FOR G1  - Degree Centrality - DEGREE > 1 Only ----\n",
      "\n",
      "\n",
      "eid-76 517\n",
      "eid-93 316\n",
      "eid-106 293\n",
      "eid-109 262\n",
      "eid-56 253\n",
      "eid-78 251\n",
      "eid-74 243\n",
      "eid-88 225\n",
      "eid-75 209\n"
     ]
    }
   ],
   "source": [
    "# DEGREE CENTRALITY\n",
    "\n",
    "print(\" ---- FOR G1  - Degree Centrality - DEGREE > 1 Only ----\")\n",
    "\n",
    "print(\"\\n\")\n",
    "\n",
    "dc_g1 = (sorted(G1.degree, key=lambda x: x[1], reverse=True))\n",
    "sort_dc_g1=(dc_g1[0:9])\n",
    "\n",
    "for i in sort_dc_g1:\n",
    "    print(i[0], i[1])\n",
    "    \n",
    " "
   ]
  },
  {
   "cell_type": "code",
   "execution_count": 13,
   "id": "20e9a544-8e0b-411b-9356-27e05cd00f06",
   "metadata": {},
   "outputs": [
    {
     "name": "stdout",
     "output_type": "stream",
     "text": [
      " ---- FOR G1  - Closeness Centraility - DEGREE > 1 Only\n",
      "\n",
      "\n",
      "eid-76 0.5826833073322933\n",
      "eid-56 0.5403254972875225\n",
      "eid-106 0.5360602798708288\n",
      "eid-93 0.5305397727272727\n",
      "eid-109 0.5242105263157895\n",
      "eid-74 0.519471488178025\n",
      "eid-78 0.5162404975812025\n",
      "eid-83 0.5157059026579219\n",
      "eid-88 0.5105946684894054\n",
      "\n",
      "\n"
     ]
    }
   ],
   "source": [
    "# CLOSENESS CENTRALITY \n",
    "\n",
    "print(\" ---- FOR G1  - Closeness Centraility - DEGREE > 1 Only\")\n",
    "\n",
    "print(\"\\n\")\n",
    "\n",
    "cc_g1=nx.closeness_centrality(G1)\n",
    "\n",
    "sort_cc_g1 = sorted(cc_g1.items(), key=lambda x: x[1], reverse=True)\n",
    "\n",
    "sort_cc_g1=(sort_cc_g1[0:9])\n",
    "\n",
    "for i in sort_cc_g1:\n",
    "    print(i[0], i[1])\n",
    "    \n",
    "    \n",
    "print(\"\\n\")\n"
   ]
  },
  {
   "cell_type": "code",
   "execution_count": 14,
   "id": "4ff3959e-91c5-4c6f-ad6b-a2d8ee486b05",
   "metadata": {},
   "outputs": [
    {
     "name": "stdout",
     "output_type": "stream",
     "text": [
      " ---- FOR G1  - Betweeness Centraility - DEGREE > 1 Only\n",
      "\n",
      "\n",
      "eid-76 0.2402514321129967\n",
      "eid-109 0.09511948550214953\n",
      "eid-106 0.09358142236759642\n",
      "eid-93 0.0919541590048985\n",
      "eid-56 0.07894011538203861\n",
      "eid-78 0.06825974914108791\n",
      "eid-74 0.06433435056382462\n",
      "eid-88 0.06330204476787733\n",
      "eid-127 0.049160538404933\n"
     ]
    }
   ],
   "source": [
    "# BETWEENESS CENTRALITY\n",
    "print(\" ---- FOR G1  - Betweeness Centraility - DEGREE > 1 Only\")\n",
    "\n",
    "print(\"\\n\")\n",
    "\n",
    "bc_gg1 = nx.betweenness_centrality(G1)\n",
    "\n",
    "sort_bc_gg1 = sorted(bc_gg1.items(), key=lambda x: x[1], reverse=True)\n",
    "\n",
    "sort_bc_gg1=(sort_bc_gg1[0:9])\n",
    "\n",
    "for i in sort_bc_gg1:\n",
    "    print(i[0], i[1])\n",
    "    \n"
   ]
  },
  {
   "cell_type": "code",
   "execution_count": 15,
   "id": "84db54bb-a166-469e-99f8-ba5a6cab39b1",
   "metadata": {},
   "outputs": [
    {
     "data": {
      "image/png": "[encoded data removed]",
      "text/plain": [
       "<Figure size 432x288 with 2 Axes>"
      ]
     },
     "metadata": {
      "needs_background": "light"
     },
     "output_type": "display_data"
    },
    {
     "name": "stdout",
     "output_type": "stream",
     "text": [
      "THE END OF CODE\n"
     ]
    }
   ],
   "source": [
    "##---------------------------THIS IS FOR GRAPHING THE DEGREE CENTRALITY-------------------------------------\n",
    "\n",
    "degree_sequence = sorted([d for n, d in G1.degree()], reverse=True)  # degree sequence\n",
    "degreeCount = collections.Counter(degree_sequence)\n",
    "deg, cnt = zip(*degreeCount.items())\n",
    "\n",
    "fig, ax = plt.subplots()\n",
    "plt.bar(deg, cnt, width=0.80, color=\"b\")\n",
    "\n",
    "plt.title(\"Degree Histogram with degreee <= removed\")\n",
    "plt.ylabel(\"Count\")\n",
    "plt.xlabel(\"Degree\")\n",
    "ax.set_xticks([d + 0.4 for d in deg])\n",
    "ax.set_xticklabels(deg)\n",
    "\n",
    "# draw graph in inset ------- CAN be included in project\n",
    "plt.axes([0.4, 0.4, 0.5, 0.5])\n",
    "Gcc = G1.subgraph(sorted(nx.connected_components(G1), key=len, reverse=True)[0])\n",
    "pos = nx.spring_layout(G1)\n",
    "plt.axis(\"off\")\n",
    "nx.draw_networkx_nodes(G1, pos, node_size=20)\n",
    "nx.draw_networkx_edges(G1, pos, alpha=0.4)\n",
    "plt.show()\n",
    "\n",
    "##------------------------------------------------------------\n",
    "print('THE END OF CODE')"
   ]
  },
  {
   "cell_type": "code",
   "execution_count": 16,
   "id": "1114a360-34c7-4f42-8c35-234b26360c77",
   "metadata": {
    "tags": []
   },
   "outputs": [
    {
     "name": "stdout",
     "output_type": "stream",
     "text": [
      " - The following code generates Pyvis visual of the 10000 record dataset in a seperate html page - \n"
     ]
    }
   ],
   "source": [
    "print(\" - The following code generates Pyvis visual of the 10000 record dataset in a seperate html page - \")"
   ]
  },
  {
   "cell_type": "code",
   "execution_count": 17,
   "id": "1c5b4bef-b209-4f08-bdd5-f66d1295f404",
   "metadata": {
    "tags": []
   },
   "outputs": [],
   "source": [
    "got_net = Network(height='750px', width='100%', bgcolor='#034C03', font_color='white')\n",
    "\n",
    "# set the physics layout of the network\n",
    "got_net.barnes_hut()\n",
    "\n",
    "data_1K = pd.read_csv('enron_import_10000_records.csv')\n",
    "\n",
    "sources = data_1K['Source']\n",
    "targets = data_1K['Target']\n",
    "weights = data_1K['Weight']\n",
    "\n",
    "\n",
    "edge_data = zip(sources, targets, weights)\n",
    "\n",
    "for e in edge_data:\n",
    "    src = e[0]\n",
    "    dst = e[1]\n",
    "    w = e[2]\n",
    "\n",
    "    got_net.add_node(src, src, title=src)\n",
    "    got_net.add_node(dst, dst, title=dst)\n",
    "    got_net.add_edge(src, dst, value=w)\n",
    "\n",
    "neighbor_map = got_net.get_adj_list()\n",
    "\n",
    "# add neighbor data to node hover data\n",
    "for node in got_net.nodes:\n",
    "    node['title'] += ' Neighbors:<br>' + '<br>'.join(neighbor_map[node['id']])\n",
    "    node['value'] = len(neighbor_map[node['id']])\n",
    "\n",
    "got_net.show('enron_10000_records.html')\n"
   ]
  },
  {
   "cell_type": "code",
   "execution_count": 18,
   "id": "d0eaa7b0-33b6-4960-be4d-88f6eb1c06ca",
   "metadata": {},
   "outputs": [
    {
     "name": "stdout",
     "output_type": "stream",
     "text": [
      "#####   -----   THE FOLLOWING RELATE TO ALL RECORDS OF THE  ENRON DATASET WITH LIMITED VISUALIZATIONS   -----     #####\n"
     ]
    }
   ],
   "source": [
    "print(\"#####   -----   THE FOLLOWING RELATE TO ALL RECORDS OF THE  ENRON DATASET WITH LIMITED VISUALIZATIONS   -----     #####\")"
   ]
  },
  {
   "cell_type": "code",
   "execution_count": 19,
   "id": "b63b3ad8-c2c4-4dc9-816f-703c7c969d46",
   "metadata": {},
   "outputs": [
    {
     "name": "stdout",
     "output_type": "stream",
     "text": [
      "The numbr of NODES in the ENRON DATASET -ALL RECORDS - ) 73384\n",
      "\n",
      "\n",
      "A summary NODES in the ENRON DATASET -ALL RECORDS -  Name: \n",
      "Type: Graph\n",
      "Number of nodes: 73384\n",
      "Number of edges: 367662\n",
      "Average degree:  10.0202\n",
      "\n",
      "\n"
     ]
    },
    {
     "data": {
      "image/png": "[encoded data removed]",
      "text/plain": [
       "<Figure size 432x288 with 1 Axes>"
      ]
     },
     "metadata": {},
     "output_type": "display_data"
    }
   ],
   "source": [
    "print(\"The numbr of NODES in the ENRON DATASET -ALL RECORDS - )\",len(GA))\n",
    "\n",
    "print(\"\\n\")\n",
    "\n",
    "print(\"A summary NODES in the ENRON DATASET -ALL RECORDS - \",nx.info(GA))\n",
    "\n",
    "print(\"\\n\")\n",
    "   \n",
    "nx.draw(G)"
   ]
  },
  {
   "cell_type": "code",
   "execution_count": 20,
   "id": "bedfc0a9-77f8-4793-9182-c50b824df7da",
   "metadata": {},
   "outputs": [
    {
     "name": "stdout",
     "output_type": "stream",
     "text": [
      " ---- For All Records - Degree Centrality ----\n",
      "\n",
      "\n",
      "edi-5038 1383\n",
      "eid-5038 1383\n",
      "edi-273 1367\n",
      "eid-273 1367\n",
      "edi-458 1261\n",
      "eid-458 1261\n",
      "edi-140 1245\n",
      "eid-140 1245\n",
      "edi-1028 1244\n"
     ]
    }
   ],
   "source": [
    "# DEGREE CENTRALITY\n",
    "\n",
    "print(\" ---- For All Records - Degree Centrality ----\")\n",
    "\n",
    "print(\"\\n\")\n",
    "\n",
    "dc_ga = (sorted(GA.degree, key=lambda x: x[1], reverse=True))\n",
    "sort_dc_ga=(dc_ga[0:9])\n",
    "\n",
    "for i in sort_dc_ga:\n",
    "    print(i[0], i[1])\n",
    "    \n",
    " "
   ]
  },
  {
   "cell_type": "code",
   "execution_count": 21,
   "id": "d8f0bded-8d8e-4423-99fd-0b4cfed99a71",
   "metadata": {},
   "outputs": [
    {
     "name": "stdout",
     "output_type": "stream",
     "text": [
      " ---- For All Records  - Closeness Centraility\n",
      "\n",
      "\n",
      "edi-136 0.2978633972673965\n",
      "eid-136 0.2978633972673965\n",
      "edi-76 0.29706274301763536\n",
      "eid-76 0.29706274301763536\n",
      "edi-46 0.2925993300797876\n",
      "eid-46 0.2925993300797876\n",
      "edi-140 0.2894978412364043\n",
      "eid-140 0.2894978412364043\n",
      "edi-292 0.2894761756823673\n",
      "\n",
      "\n"
     ]
    }
   ],
   "source": [
    "# CLOSENESS CENTRALITY \n",
    "\n",
    "print(\" ---- For All Records  - Closeness Centraility\")\n",
    "\n",
    "print(\"\\n\")\n",
    "\n",
    "cc_ga=nx.closeness_centrality(GA)\n",
    "\n",
    "sort_cc_ga = sorted(cc_ga.items(), key=lambda x: x[1], reverse=True)\n",
    "\n",
    "sort_cc_ga=(sort_cc_ga[0:9])\n",
    "\n",
    "for i in sort_cc_ga:\n",
    "    print(i[0], i[1])\n",
    "    \n",
    "print(\"\\n\")\n"
   ]
  },
  {
   "cell_type": "code",
   "execution_count": null,
   "id": "13c6e2f9-848b-4e97-939b-08e7edb6f6c1",
   "metadata": {},
   "outputs": [
    {
     "name": "stdout",
     "output_type": "stream",
     "text": [
      " ---- For All Records  - Betweeness Centraility ---- \n",
      "\n",
      "\n"
     ]
    }
   ],
   "source": [
    "# BETWEENESS CENTRALITY\n",
    "\n",
    "print(\" ---- For All Records  - Betweeness Centraility ---- \")\n",
    "\n",
    "print(\"\\n\")\n",
    "\n",
    "bc_gga = nx.betweenness_centrality(GA)\n",
    "\n",
    "sort_bc_gga = sorted(bc_gga.items(), key=lambda x: x[1], reverse=True)\n",
    "\n",
    "sort_bc_gga=(sort_bc_gga[0:9])\n",
    "\n",
    "for i in sort_bc_gga:\n",
    "    print(i[0], i[1])\n",
    "    \n"
   ]
  },
  {
   "cell_type": "code",
   "execution_count": null,
   "id": "a596bfcb-8589-4a08-b2c3-335dc44fc80c",
   "metadata": {},
   "outputs": [],
   "source": [
    "##---------------------------THIS IS FOR GRAPHING THE DEGREE CENTRALITY-------------------------------------\n",
    "\n",
    "degree_sequence = sorted([d for n, d in GA.degree()], reverse=True)  # degree sequence\n",
    "degreeCount = collections.Counter(degree_sequence)\n",
    "deg, cnt = zip(*degreeCount.items())\n",
    "\n",
    "fig, ax = plt.subplots()\n",
    "plt.bar(deg, cnt, width=0.80, color=\"b\")\n",
    "\n",
    "plt.title(\"Degree Histogram ENRON DATASET ALL RECORDS\")\n",
    "plt.ylabel(\"Count\")\n",
    "plt.xlabel(\"Degree\")\n",
    "ax.set_xticks([d + 0.4 for d in deg])\n",
    "ax.set_xticklabels(deg)\n",
    "\n",
    "# draw graph in inset ------- CAN be included in project\n",
    "plt.axes([0.4, 0.4, 0.5, 0.5])\n",
    "Gcc = GA.subgraph(sorted(nx.connected_components(GA), key=len, reverse=True)[0])\n",
    "pos = nx.spring_layout(GA)\n",
    "plt.axis(\"off\")\n",
    "nx.draw_networkx_nodes(GA, pos, node_size=20)\n",
    "nx.draw_networkx_edges(GA, pos, alpha=0.4)\n",
    "plt.show()\n",
    "\n",
    "##------------------------------------------------------------\n",
    "print('THE END OF CODE')"
   ]
  }
 ],
 "metadata": {
  "kernelspec": {
   "display_name": "Python 3",
   "language": "python",
   "name": "python3"
  },
  "language_info": {
   "codemirror_mode": {
    "name": "ipython",
    "version": 3
   },
   "file_extension": ".py",
   "mimetype": "text/x-python",
   "name": "python",
   "nbconvert_exporter": "python",
   "pygments_lexer": "ipython3",
   "version": "3.7.10"
  }
 },
 "nbformat": 4,
 "nbformat_minor": 5
}
