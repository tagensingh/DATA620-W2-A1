{
 "cells": [
  {
   "cell_type": "code",
   "execution_count": null,
   "id": "04cd57c0-869b-40c4-a04a-bc236d82086b",
   "metadata": {
    "scrolled": true,
    "tags": []
   },
   "outputs": [],
   "source": [
    "#   - Importing the required libraries   - \n",
    "\n",
    "import pandas as pd\n",
    "\n",
    "import collections\n",
    "\n",
    "import networkx as nx\n",
    "G=nx.Graph()\n",
    "\n",
    "from pyvis.network import Network\n",
    "\n",
    "import matplotlib.pyplot as plt\n",
    "\n",
    "import itertools\n",
    "\n",
    "from tabulate import tabulate\n",
    "\n",
    "from datetime import date\n",
    "today = date.today()\n",
    "\n",
    "print(today)"
   ]
  },
  {
   "cell_type": "code",
   "execution_count": null,
   "id": "4cb592f8-e177-4b1e-84a7-a632a80c7991",
   "metadata": {},
   "outputs": [],
   "source": [
    "print(\" This project use the following package versions \")\n",
    "\n",
    "!conda list python\n",
    "\n",
    "print(\"\\n\")\n",
    "\n",
    "!conda list networkx\n",
    "\n",
    "print(\"\\n\")\n",
    "\n",
    "!conda list pyvis\n",
    "\n",
    "print(\"\\n\")"
   ]
  },
  {
   "cell_type": "markdown",
   "id": "4b55bde7-5a27-4db1-8acb-48d41ce47da0",
   "metadata": {
    "tags": []
   },
   "source": [
    "<span style='background :blue' > # CUNY SPS DATA 620\n",
    "\n",
    "<span style='background :blue' >## WEEK 2 ASSIGNMENT 1\n",
    "    \n",
    "### This assignment is about the Enron Email dataset, the dataset contains > 360K edges, we will work with various subsets of those edges.\n",
    "\n",
    "### The dataset was sourced from https://snap.stanford.edu/data/email-Enron.html\n",
    "\n",
    "<span style='background :blue' >### This work is a group effort, the group members are Ramnivas Singh, Deepak Sharma, Tage Singh,"
   ]
  },
  {
   "cell_type": "code",
   "execution_count": null,
   "id": "75cdf127-2a69-4323-a632-3d7807df0a8c",
   "metadata": {
    "tags": []
   },
   "outputs": [],
   "source": [
    "# The follwoing will import all records into the networkx object\n",
    "\n",
    "#  - importing all records from dataset\n",
    "\n",
    "data_10000 = pd.read_csv('https://raw.githubusercontent.com/tagensingh/DATA620-W2-A1/main/enron_import_10000_records.csv')\n",
    "\n",
    "data_all = pd.read_csv('https://raw.githubusercontent.com/tagensingh/DATA620-W2-A1/main/enron_import_all_records.csv')\n",
    "\n",
    "G=nx.from_pandas_edgelist(data_10000, 'Source', 'Target',edge_attr=None)\n",
    "GA=nx.from_pandas_edgelist(data_all, 'Source', 'Target',edge_attr=None)\n",
    "\n",
    "#   - Trimming nodes with 1 connection   - \n",
    "\n",
    "G1=G.copy()\n",
    "\n",
    "to_be_removed = [x for  x in G1.nodes() if G1.degree(x) <= 1]\n",
    "\n",
    "for x in to_be_removed:\n",
    "    G1.remove_node(x)\n",
    "    \n",
    "#   - Trimming nodes with 5 or less connections   - \n",
    "    \n",
    "G5=G.copy()\n",
    "\n",
    "to_be_removed = [x for  x in G5.nodes() if G5.degree(x) <= 5]\n",
    "\n",
    "for x in to_be_removed:\n",
    "    G5.remove_node(x)\n",
    "\n"
   ]
  },
  {
   "cell_type": "markdown",
   "id": "52c53dac-0883-450c-893b-419e5a2b4585",
   "metadata": {
    "tags": []
   },
   "source": [
    "<span style='background :green' > ## The cell below provide an overview of **100,000** records of the ENRON Email dataset \n",
    "    \n",
    "<span style='background :red' > ## This subset of the data is too large to generate a graph using current hardware config"
   ]
  },
  {
   "cell_type": "code",
   "execution_count": null,
   "id": "c768b009-2c44-440d-9357-0f17a33a52f5",
   "metadata": {},
   "outputs": [],
   "source": [
    "print(\"The numbr of NODES in the base data of 10,000 records\",len(G))\n",
    "\n",
    "print(\"\\n\")\n",
    "\n",
    "print(\"A summary NODES in the base data of 10,000 records\",nx.info(G))\n",
    "\n",
    "\n",
    "print(\"\\n\")\n",
    "\n",
    "print(\"The RADIUS of the base data of 10,000 records\",nx.radius(G))\n",
    "\n",
    "\n",
    "print(\"\\n\")\n",
    "\n",
    "print(\"The DIAMETER of the base data of 10,000 records\",nx.diameter(G))\n",
    "\n",
    "\n",
    "print(\"\\n\")\n",
    "    \n",
    "nx.draw(G)"
   ]
  },
  {
   "cell_type": "code",
   "execution_count": null,
   "id": "d8feeb17-bb06-4abd-8362-3fcf59d1e9bd",
   "metadata": {},
   "outputs": [],
   "source": [
    "# DEGREE CENTRALITY\n",
    "\n",
    "print(\" ---- For 10,000 Records  - Degree Centrality ----\")\n",
    "\n",
    "print(\"\\n\")\n",
    "\n",
    "dc_g = (sorted(G.degree, key=lambda x: x[1], reverse=True))\n",
    "sort_dc_g=(dc_g[0:9])\n",
    "\n",
    "for i in sort_dc_g:\n",
    "    print(i[0], i[1])\n",
    "    \n",
    " "
   ]
  },
  {
   "cell_type": "code",
   "execution_count": null,
   "id": "6b9006e9-5743-4735-adcd-8d2947a86a81",
   "metadata": {},
   "outputs": [],
   "source": [
    "# CLOSENESS CENTRALITY \n",
    "\n",
    "print(\" ---- For 10,000 Records  - Closeness Centraility\")\n",
    "\n",
    "print(\"\\n\")\n",
    "\n",
    "cc_g=nx.closeness_centrality(G)\n",
    "\n",
    "sort_cc_g = sorted(cc_g.items(), key=lambda x: x[1], reverse=True)\n",
    "\n",
    "sort_cc_g=(sort_cc_g[0:9])\n",
    "\n",
    "for i in sort_cc_g:\n",
    "    print(i[0], i[1])\n",
    "    \n",
    "    \n",
    "print(\"\\n\")\n"
   ]
  },
  {
   "cell_type": "code",
   "execution_count": null,
   "id": "cb8995eb-317e-4519-b5d6-f8ef3de52b44",
   "metadata": {},
   "outputs": [],
   "source": [
    "# BETWEENESS CENTRALITY\n",
    "\n",
    "print(\" ---- FOR 10,000 Records  - Betweeness Centraility ---- \")\n",
    "\n",
    "print(\"\\n\")\n",
    "\n",
    "bc_gg = nx.betweenness_centrality(G)\n",
    "\n",
    "sort_bc_gg = sorted(bc_gg.items(), key=lambda x: x[1], reverse=True)\n",
    "\n",
    "sort_bc_gg=(sort_bc_gg[0:9])\n",
    "\n",
    "for i in sort_bc_gg:\n",
    "    print(i[0], i[1])\n",
    "    \n"
   ]
  },
  {
   "cell_type": "code",
   "execution_count": null,
   "id": "92e64bce-b724-4013-8676-fd1bb186b302",
   "metadata": {},
   "outputs": [],
   "source": [
    "##---------------------------THIS IS FOR GRAPHING THE DEGREE CENTRALITY-------------------------------------\n",
    "\n",
    "degree_sequence = sorted([d for n, d in G.degree()], reverse=True)  # degree sequence\n",
    "degreeCount = collections.Counter(degree_sequence)\n",
    "deg, cnt = zip(*degreeCount.items())\n",
    "\n",
    "fig, ax = plt.subplots()\n",
    "plt.bar(deg, cnt, width=0.80, color=\"b\")\n",
    "\n",
    "plt.title(\"Degree Histogram Enron Emails 10,000 Records\")\n",
    "plt.ylabel(\"Count\")\n",
    "plt.xlabel(\"Degree\")\n",
    "ax.set_xticks([d + 0.4 for d in deg])\n",
    "ax.set_xticklabels(deg)\n",
    "\n",
    "# draw graph in inset ------- CAN be included in project\n",
    "plt.axes([0.4, 0.4, 0.5, 0.5])\n",
    "Gcc = G.subgraph(sorted(nx.connected_components(G), key=len, reverse=True)[0])\n",
    "pos = nx.spring_layout(G)\n",
    "plt.axis(\"off\")\n",
    "nx.draw_networkx_nodes(G, pos, node_size=20)\n",
    "nx.draw_networkx_edges(G, pos, alpha=0.4)\n",
    "plt.show()\n",
    "\n",
    "##------------------------------------------------------------\n",
    "print('THE END OF CODE')"
   ]
  },
  {
   "cell_type": "code",
   "execution_count": null,
   "id": "000b5087-69cd-4e7a-8038-df1f920713ac",
   "metadata": {
    "tags": []
   },
   "outputs": [],
   "source": [
    "print(\" - The following code generates Pyvis visual of the 5000 record dataset in a seperate html page - \")"
   ]
  },
  {
   "cell_type": "code",
   "execution_count": null,
   "id": "164d2db9-13c5-45ba-92d8-492d952bf41f",
   "metadata": {
    "tags": []
   },
   "outputs": [],
   "source": [
    "# this is a sample visualization for the ENRON email dataset using PYVIS and 5000 Records\n",
    "\n",
    "got_net = Network(height='750px', width='100%', bgcolor='#034C03', font_color='white')\n",
    "\n",
    "# set the physics layout of the network\n",
    "got_net.barnes_hut()\n",
    "\n",
    "data_1K = pd.read_csv('enron_import_5000_records.csv')\n",
    "\n",
    "sources = data_1K['Source']\n",
    "targets = data_1K['Target']\n",
    "weights = data_1K['Weight']\n",
    "\n",
    "\n",
    "edge_data = zip(sources, targets, weights)\n",
    "\n",
    "for e in edge_data:\n",
    "    src = e[0]\n",
    "    dst = e[1]\n",
    "    w = e[2]\n",
    "\n",
    "    got_net.add_node(src, src, title=src)\n",
    "    got_net.add_node(dst, dst, title=dst)\n",
    "    got_net.add_edge(src, dst, value=w)\n",
    "\n",
    "neighbor_map = got_net.get_adj_list()\n",
    "\n",
    "# add neighbor data to node hover data\n",
    "for node in got_net.nodes:\n",
    "    node['title'] += ' Neighbors:<br>' + '<br>'.join(neighbor_map[node['id']])\n",
    "    node['value'] = len(neighbor_map[node['id']])\n",
    "\n",
    "got_net.show('enron_5000_records.html')\n"
   ]
  },
  {
   "cell_type": "code",
   "execution_count": null,
   "id": "76bd2fe6-86b3-477e-82b1-89dc4358d15d",
   "metadata": {
    "tags": []
   },
   "outputs": [],
   "source": [
    "print(\"#####   -----   THE FOLLOWING RELATE TO THE ENRON 10,000 RECORDS DATASET WITH NODES <=1 DEGREE  REMOVED   -----     #####\")"
   ]
  },
  {
   "cell_type": "code",
   "execution_count": null,
   "id": "636d881c-e06e-4ce3-8621-d4d289e2af5e",
   "metadata": {},
   "outputs": [],
   "source": [
    "# DEGREE CENTRALITY\n",
    "\n",
    "print(\" ---- FOR G1  - Degree Centrality - DEGREE > 1 Only ----\")\n",
    "\n",
    "print(\"\\n\")\n",
    "\n",
    "dc_g1 = (sorted(G1.degree, key=lambda x: x[1], reverse=True))\n",
    "sort_dc_g1=(dc_g1[0:9])\n",
    "\n",
    "for i in sort_dc_g1:\n",
    "    print(i[0], i[1])\n",
    "    \n",
    " "
   ]
  },
  {
   "cell_type": "code",
   "execution_count": null,
   "id": "20e9a544-8e0b-411b-9356-27e05cd00f06",
   "metadata": {},
   "outputs": [],
   "source": [
    "# CLOSENESS CENTRALITY \n",
    "\n",
    "print(\" ---- FOR G1  - Closeness Centraility - DEGREE > 1 Only\")\n",
    "\n",
    "print(\"\\n\")\n",
    "\n",
    "cc_g1=nx.closeness_centrality(G1)\n",
    "\n",
    "sort_cc_g1 = sorted(cc_g1.items(), key=lambda x: x[1], reverse=True)\n",
    "\n",
    "sort_cc_g1=(sort_cc_g1[0:9])\n",
    "\n",
    "for i in sort_cc_g1:\n",
    "    print(i[0], i[1])\n",
    "    \n",
    "    \n",
    "print(\"\\n\")\n"
   ]
  },
  {
   "cell_type": "code",
   "execution_count": null,
   "id": "4ff3959e-91c5-4c6f-ad6b-a2d8ee486b05",
   "metadata": {},
   "outputs": [],
   "source": [
    "# BETWEENESS CENTRALITY\n",
    "print(\" ---- FOR G1  - Betweeness Centraility - DEGREE > 1 Only\")\n",
    "\n",
    "print(\"\\n\")\n",
    "\n",
    "bc_gg1 = nx.betweenness_centrality(G1)\n",
    "\n",
    "sort_bc_gg1 = sorted(bc_gg1.items(), key=lambda x: x[1], reverse=True)\n",
    "\n",
    "sort_bc_gg1=(sort_bc_gg1[0:9])\n",
    "\n",
    "for i in sort_bc_gg1:\n",
    "    print(i[0], i[1])\n",
    "    \n"
   ]
  },
  {
   "cell_type": "code",
   "execution_count": null,
   "id": "84db54bb-a166-469e-99f8-ba5a6cab39b1",
   "metadata": {},
   "outputs": [],
   "source": [
    "##---------------------------THIS IS FOR GRAPHING THE DEGREE CENTRALITY-------------------------------------\n",
    "\n",
    "degree_sequence = sorted([d for n, d in G1.degree()], reverse=True)  # degree sequence\n",
    "degreeCount = collections.Counter(degree_sequence)\n",
    "deg, cnt = zip(*degreeCount.items())\n",
    "\n",
    "fig, ax = plt.subplots()\n",
    "plt.bar(deg, cnt, width=0.80, color=\"b\")\n",
    "\n",
    "plt.title(\"Degree Histogram with degreee <= removed\")\n",
    "plt.ylabel(\"Count\")\n",
    "plt.xlabel(\"Degree\")\n",
    "ax.set_xticks([d + 0.4 for d in deg])\n",
    "ax.set_xticklabels(deg)\n",
    "\n",
    "# draw graph in inset ------- CAN be included in project\n",
    "plt.axes([0.4, 0.4, 0.5, 0.5])\n",
    "Gcc = G1.subgraph(sorted(nx.connected_components(G1), key=len, reverse=True)[0])\n",
    "pos = nx.spring_layout(G1)\n",
    "plt.axis(\"off\")\n",
    "nx.draw_networkx_nodes(G1, pos, node_size=20)\n",
    "nx.draw_networkx_edges(G1, pos, alpha=0.4)\n",
    "plt.show()\n",
    "\n",
    "##------------------------------------------------------------\n",
    "print('THE END OF CODE')"
   ]
  },
  {
   "cell_type": "code",
   "execution_count": null,
   "id": "1114a360-34c7-4f42-8c35-234b26360c77",
   "metadata": {
    "tags": []
   },
   "outputs": [],
   "source": [
    "print(\" - The following code generates Pyvis visual of the 10000 record dataset in a seperate html page - \")"
   ]
  },
  {
   "cell_type": "code",
   "execution_count": null,
   "id": "1c5b4bef-b209-4f08-bdd5-f66d1295f404",
   "metadata": {
    "tags": []
   },
   "outputs": [],
   "source": [
    "got_net = Network(height='750px', width='100%', bgcolor='#034C03', font_color='white')\n",
    "\n",
    "# set the physics layout of the network\n",
    "got_net.barnes_hut()\n",
    "\n",
    "data_1K = pd.read_csv('enron_import_10000_records.csv')\n",
    "\n",
    "sources = data_1K['Source']\n",
    "targets = data_1K['Target']\n",
    "weights = data_1K['Weight']\n",
    "\n",
    "\n",
    "edge_data = zip(sources, targets, weights)\n",
    "\n",
    "for e in edge_data:\n",
    "    src = e[0]\n",
    "    dst = e[1]\n",
    "    w = e[2]\n",
    "\n",
    "    got_net.add_node(src, src, title=src)\n",
    "    got_net.add_node(dst, dst, title=dst)\n",
    "    got_net.add_edge(src, dst, value=w)\n",
    "\n",
    "neighbor_map = got_net.get_adj_list()\n",
    "\n",
    "# add neighbor data to node hover data\n",
    "for node in got_net.nodes:\n",
    "    node['title'] += ' Neighbors:<br>' + '<br>'.join(neighbor_map[node['id']])\n",
    "    node['value'] = len(neighbor_map[node['id']])\n",
    "\n",
    "got_net.show('enron_10000_records.html')\n"
   ]
  },
  {
   "cell_type": "code",
   "execution_count": null,
   "id": "d0eaa7b0-33b6-4960-be4d-88f6eb1c06ca",
   "metadata": {},
   "outputs": [],
   "source": [
    "print(\"#####   -----   THE FOLLOWING RELATE TO ALL RECORDS OF THE  ENRON DATASET WITH LIMITED VISUALIZATIONS   -----     #####\")"
   ]
  },
  {
   "cell_type": "code",
   "execution_count": null,
   "id": "b63b3ad8-c2c4-4dc9-816f-703c7c969d46",
   "metadata": {},
   "outputs": [],
   "source": [
    "print(\"The numbr of NODES in the ENRON DATASET -ALL RECORDS - )\",len(GA))\n",
    "\n",
    "print(\"\\n\")\n",
    "\n",
    "print(\"A summary NODES in the ENRON DATASET -ALL RECORDS - \",nx.info(GA))\n",
    "\n",
    "print(\"\\n\")\n",
    "   \n",
    "nx.draw(G)"
   ]
  },
  {
   "cell_type": "code",
   "execution_count": null,
   "id": "bedfc0a9-77f8-4793-9182-c50b824df7da",
   "metadata": {},
   "outputs": [],
   "source": [
    "# DEGREE CENTRALITY\n",
    "\n",
    "print(\" ---- For All Records - Degree Centrality ----\")\n",
    "\n",
    "print(\"\\n\")\n",
    "\n",
    "dc_ga = (sorted(GA.degree, key=lambda x: x[1], reverse=True))\n",
    "sort_dc_ga=(dc_ga[0:9])\n",
    "\n",
    "for i in sort_dc_ga:\n",
    "    print(i[0], i[1])\n",
    "    \n",
    " "
   ]
  },
  {
   "cell_type": "code",
   "execution_count": null,
   "id": "d8f0bded-8d8e-4423-99fd-0b4cfed99a71",
   "metadata": {},
   "outputs": [],
   "source": [
    "# CLOSENESS CENTRALITY \n",
    "\n",
    "print(\" ---- For All Records  - Closeness Centraility\")\n",
    "\n",
    "print(\"\\n\")\n",
    "\n",
    "cc_ga=nx.closeness_centrality(GA)\n",
    "\n",
    "sort_cc_ga = sorted(cc_ga.items(), key=lambda x: x[1], reverse=True)\n",
    "\n",
    "sort_cc_ga=(sort_cc_ga[0:9])\n",
    "\n",
    "for i in sort_cc_ga:\n",
    "    print(i[0], i[1])\n",
    "    \n",
    "print(\"\\n\")\n"
   ]
  },
  {
   "cell_type": "code",
   "execution_count": null,
   "id": "13c6e2f9-848b-4e97-939b-08e7edb6f6c1",
   "metadata": {},
   "outputs": [],
   "source": [
    "# BETWEENESS CENTRALITY\n",
    "\n",
    "print(\" ---- For All Records  - Betweeness Centraility ---- \")\n",
    "\n",
    "print(\"\\n\")\n",
    "\n",
    "bc_gga = nx.betweenness_centrality(GA)\n",
    "\n",
    "sort_bc_gga = sorted(bc_gga.items(), key=lambda x: x[1], reverse=True)\n",
    "\n",
    "sort_bc_gga=(sort_bc_gga[0:9])\n",
    "\n",
    "for i in sort_bc_gga:\n",
    "    print(i[0], i[1])\n",
    "    \n"
   ]
  },
  {
   "cell_type": "code",
   "execution_count": null,
   "id": "a596bfcb-8589-4a08-b2c3-335dc44fc80c",
   "metadata": {},
   "outputs": [],
   "source": [
    "##---------------------------THIS IS FOR GRAPHING THE DEGREE CENTRALITY-------------------------------------\n",
    "\n",
    "degree_sequence = sorted([d for n, d in GA.degree()], reverse=True)  # degree sequence\n",
    "degreeCount = collections.Counter(degree_sequence)\n",
    "deg, cnt = zip(*degreeCount.items())\n",
    "\n",
    "fig, ax = plt.subplots()\n",
    "plt.bar(deg, cnt, width=0.80, color=\"b\")\n",
    "\n",
    "plt.title(\"Degree Histogram ENRON DATASET ALL RECORDS\")\n",
    "plt.ylabel(\"Count\")\n",
    "plt.xlabel(\"Degree\")\n",
    "ax.set_xticks([d + 0.4 for d in deg])\n",
    "ax.set_xticklabels(deg)\n",
    "\n",
    "# draw graph in inset ------- CAN be included in project\n",
    "plt.axes([0.4, 0.4, 0.5, 0.5])\n",
    "Gcc = GA.subgraph(sorted(nx.connected_components(GA), key=len, reverse=True)[0])\n",
    "pos = nx.spring_layout(GA)\n",
    "plt.axis(\"off\")\n",
    "nx.draw_networkx_nodes(GA, pos, node_size=20)\n",
    "nx.draw_networkx_edges(GA, pos, alpha=0.4)\n",
    "plt.show()\n",
    "\n",
    "##------------------------------------------------------------\n",
    "print('THE END OF CODE')"
   ]
  }
 ],
 "metadata": {
  "kernelspec": {
   "display_name": "Python 3",
   "language": "python",
   "name": "python3"
  },
  "language_info": {
   "codemirror_mode": {
    "name": "ipython",
    "version": 3
   },
   "file_extension": ".py",
   "mimetype": "text/x-python",
   "name": "python",
   "nbconvert_exporter": "python",
   "pygments_lexer": "ipython3",
   "version": "3.7.10"
  }
 },
 "nbformat": 4,
 "nbformat_minor": 5
}
