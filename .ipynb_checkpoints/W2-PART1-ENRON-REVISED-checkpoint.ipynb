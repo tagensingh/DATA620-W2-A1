{
 "cells": [
  {
   "cell_type": "code",
   "execution_count": null,
   "id": "172fac0c-f7f7-4982-bb5d-6de8f0b77e7f",
   "metadata": {
    "scrolled": true,
    "tags": []
   },
   "outputs": [],
   "source": [
    "# Importing the required libraries\n",
    "import pandas as pd\n",
    "\n",
    "import networkx as nx\n",
    "G=nx.Graph()\n",
    "\n",
    "from pyvis.network import Network\n",
    "\n",
    "import matplotlib.pyplot as plt\n",
    "\n",
    "\n",
    "from datetime import date\n",
    "today = date.today()\n",
    "\n",
    "print(today)\n"
   ]
  },
  {
   "cell_type": "code",
   "execution_count": null,
   "id": "60e3a482-af43-497a-b4fe-5f271f706451",
   "metadata": {},
   "outputs": [],
   "source": [
    "data_1000 = pd.read_csv('enron_import_1000_records.csv')\n",
    "G=nx.from_pandas_edgelist(data_1000, 'Source', 'Target',edge_attr=None)\n",
    "\n",
    "print(nx.info(G))\n",
    "\n",
    "#len(G)\n",
    "\n",
    "#print('The network density of 1000 nodes is :',nx.density(G) )# Displaying the density metric of the datset of 1000 emails records\n",
    "\n",
    "#print(' The number of NODES in this dataset is :',nx.number_of_nodes(G)) # Displaying the total number of nodes\n",
    "\n",
    "#print(' The number of EDGES in this dataset is :',nx.number_of_edges(G)) # Displaying the total number of edges\n",
    "\n",
    "# nx.degree_centrality(G) - This produce a list of the degrees of centrality for each node.-The code runs quickly but the output is lengthy\n",
    "\n",
    "print(' The RADIUS of this dataset is :',nx.radius(G)) # Displaying the radius metric\n",
    "\n",
    "print(' The DIAMETER of the dataset is : ',nx.diameter(G)) # Displaying the diameter of the dataset\n",
    "\n",
    "\n"
   ]
  },
  {
   "cell_type": "code",
   "execution_count": 43,
   "id": "74843aab-d6a7-4180-b1f0-c734e0aa4d48",
   "metadata": {},
   "outputs": [
    {
     "name": "stdout",
     "output_type": "stream",
     "text": [
      "3\n",
      "5\n",
      "Name: \n",
      "Type: Graph\n",
      "Number of nodes: 4692\n",
      "Number of edges: 9402\n",
      "Average degree:   4.0077\n",
      "Name: \n",
      "Type: Graph\n",
      "Number of nodes: 884\n",
      "Number of edges: 4985\n",
      "Average degree:  11.2783\n"
     ]
    }
   ],
   "source": [
    "data_1000 = pd.read_csv('enron_import_10000_records.csv')\n",
    "G=nx.from_pandas_edgelist(data_1000, 'Source', 'Target',edge_attr=None)\n",
    "\n",
    "print (nx.radius(G))\n",
    "\n",
    "print (nx.diameter(G))\n",
    "\n",
    "print(nx.info(G))\n",
    "\n",
    "deg=nx.degree(G)\n",
    "\n",
    "deg['eid-53']\n",
    "\n",
    "\n",
    "#G.degree()\n",
    "\n",
    "remove = [node for node,degree in dict(G.degree()).items() if degree < 3]\n",
    "\n",
    "G.remove_nodes_from(remove)\n",
    "\n",
    "print(nx.info(G))\n"
   ]
  },
  {
   "cell_type": "code",
   "execution_count": null,
   "id": "1309cbf9-a5a6-4a12-9ba1-eebf01732573",
   "metadata": {
    "tags": []
   },
   "outputs": [],
   "source": [
    "\n",
    "got_net = Network(height='750px', width='100%', bgcolor='#034C03', font_color='white')\n",
    "\n",
    "# set the physics layout of the network\n",
    "got_net.barnes_hut()\n",
    "\n",
    "data_1K = pd.read_csv('enron_import_10000_records.csv')\n",
    "\n",
    "sources = data_1K['Source']\n",
    "targets = data_1K['Target']\n",
    "weights = data_1K['Weight']\n",
    "\n",
    "edge_data = zip(sources, targets, weights)\n",
    "\n",
    "for e in edge_data:\n",
    "    src = e[0]\n",
    "    dst = e[1]\n",
    "    w = e[2]\n",
    "\n",
    "    got_net.add_node(src, src, title=src)\n",
    "    got_net.add_node(dst, dst, title=dst)\n",
    "    got_net.add_edge(src, dst, value=w)\n",
    "\n",
    "neighbor_map = got_net.get_adj_list()\n",
    "\n",
    "# add neighbor data to node hover data\n",
    "for node in got_net.nodes:\n",
    "    node['title'] += ' Neighbors:<br>' + '<br>'.join(neighbor_map[node['id']])\n",
    "    node['value'] = len(neighbor_map[node['id']])\n",
    "\n",
    "got_net.show('enron_1000_records.html')\n"
   ]
  },
  {
   "cell_type": "code",
   "execution_count": null,
   "id": "0fdc901b-659a-4cf3-8ea2-63373d1163a6",
   "metadata": {
    "tags": []
   },
   "outputs": [],
   "source": [
    "\n",
    "got_net = Network(height='750px', width='100%', bgcolor='#330900', font_color='white')\n",
    "\n",
    "# set the physics layout of the network\n",
    "got_net.barnes_hut()\n",
    "data_100K = pd.read_csv('enron_import_100000_records.csv')\n",
    "\n",
    "sources = data_100K['Source']\n",
    "targets = data_100K['Target']\n",
    "weights = data_100K['Weight']\n",
    "\n",
    "edge_data = zip(sources, targets, weights)\n",
    "\n",
    "for e in edge_data:\n",
    "    src = e[0]\n",
    "    dst = e[1]\n",
    "    w = e[2]\n",
    "\n",
    "    got_net.add_node(src, src, title=src)\n",
    "    got_net.add_node(dst, dst, title=dst)\n",
    "    got_net.add_edge(src, dst, value=w)\n",
    "\n",
    "neighbor_map = got_net.get_adj_list()\n",
    "\n",
    "# add neighbor data to node hover data\n",
    "for node in got_net.nodes:\n",
    "    node['title'] += ' Neighbors:<br>' + '<br>'.join(neighbor_map[node['id']])\n",
    "    node['value'] = len(neighbor_map[node['id']])\n",
    "\n",
    "got_net.show('enron_100000_records.html')"
   ]
  },
  {
   "cell_type": "code",
   "execution_count": null,
   "id": "9b6d8506-3c43-47cd-9d29-829fc032a7e3",
   "metadata": {
    "tags": []
   },
   "outputs": [],
   "source": [
    "\n",
    "got_net = Network(height='750px', width='100%', bgcolor='#222222', font_color='white')\n",
    "\n",
    "# set the physics layout of the network\n",
    "got_net.barnes_hut()\n",
    "data_10K = pd.read_csv('enron_import_10000_records.csv')\n",
    "\n",
    "sources = data_10K['Source']\n",
    "targets = data_10K['Target']\n",
    "weights = data_10K['Weight']\n",
    "\n",
    "edge_data = zip(sources, targets, weights)\n",
    "\n",
    "for e in edge_data:\n",
    "    src = e[0]\n",
    "    dst = e[1]\n",
    "    w = e[2]\n",
    "\n",
    "    got_net.add_node(src, src, title=src)\n",
    "    got_net.add_node(dst, dst, title=dst)\n",
    "    got_net.add_edge(src, dst, value=w)\n",
    "\n",
    "neighbor_map = got_net.get_adj_list()\n",
    "\n",
    "# add neighbor data to node hover data\n",
    "for node in got_net.nodes:\n",
    "    node['title'] += ' Neighbors:<br>' + '<br>'.join(neighbor_map[node['id']])\n",
    "    node['value'] = len(neighbor_map[node['id']])\n",
    "\n",
    "got_net.show('enron_10000_records.html')"
   ]
  },
  {
   "cell_type": "code",
   "execution_count": null,
   "id": "a0a731b6-1c90-4d09-9692-e1f4faf92068",
   "metadata": {},
   "outputs": [],
   "source": []
  }
 ],
 "metadata": {
  "kernelspec": {
   "display_name": "Python 3",
   "language": "python",
   "name": "python3"
  },
  "language_info": {
   "codemirror_mode": {
    "name": "ipython",
    "version": 3
   },
   "file_extension": ".py",
   "mimetype": "text/x-python",
   "name": "python",
   "nbconvert_exporter": "python",
   "pygments_lexer": "ipython3",
   "version": "3.7.10"
  }
 },
 "nbformat": 4,
 "nbformat_minor": 5
}
